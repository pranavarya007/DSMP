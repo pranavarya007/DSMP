{
 "cells": [
  {
   "cell_type": "markdown",
   "metadata": {
    "id": "A05OG15VqOPF"
   },
   "source": [
    "# Task : Session 1\n",
    "Solve these questions own your own and try to test yourself what you have learned in the session.\n",
    "\n",
    "Happy Learning!"
   ]
  },
  {
   "cell_type": "markdown",
   "metadata": {
    "id": "2doIXf8bqe9_"
   },
   "source": [
    "### Q1 :- Print the given strings as per stated format.\n",
    "\n",
    "**Given strings**: \n",
    "```\n",
    "\"Data\" \"Science\" \"Mentorship\" \"Program\" \n",
    "\"By\" \"CampusX\"\n",
    "```\n",
    "**Output**: \n",
    "``` \n",
    "Data-Science-Mentorship-Program-started-By-CampusX\n",
    "```\n",
    "\n",
    "Concept- [Seperator and End]"
   ]
  },
  {
   "cell_type": "code",
   "execution_count": 1,
   "metadata": {
    "colab": {
     "base_uri": "https://localhost:8080/"
    },
    "id": "-em6d3KErDtp",
    "outputId": "7ac2ef5b-986b-4afb-c3ba-afc70480db26"
   },
   "outputs": [
    {
     "name": "stdout",
     "output_type": "stream",
     "text": [
      "Data-Science-Mentorship-Program-By-CampusX\n"
     ]
    }
   ],
   "source": [
    "print(\"Data\",\"Science\",\"Mentorship\",\"Program\" ,\"By\" ,\"CampusX\", sep='-')"
   ]
  },
  {
   "cell_type": "markdown",
   "metadata": {
    "id": "1KUpN7ZTrC3_"
   },
   "source": [
    "### Q2:- Write a program that will convert celsius value to fahrenheit."
   ]
  },
  {
   "cell_type": "code",
   "execution_count": 2,
   "metadata": {
    "id": "yxKYhYQiqWfj"
   },
   "outputs": [
    {
     "name": "stdout",
     "output_type": "stream",
     "text": [
      "enter temperature in celsius : 3\n",
      "3 celsius is equal to 37.4 fahrenheit\n"
     ]
    }
   ],
   "source": [
    "#(°C × 9/5) + 32 = F\n",
    "\n",
    "a = int(input(\"enter temperature in celsius : \"))\n",
    "b = (a*(9/5)) + 32\n",
    "print(\"{} celsius is equal to {} fahrenheit\".format(a,b))"
   ]
  },
  {
   "cell_type": "markdown",
   "metadata": {
    "id": "RLrOBBJurLB2"
   },
   "source": [
    "### Q3:- Take 2 numbers as input from the user.Write a program to swap the numbers without using any special python syntax."
   ]
  },
  {
   "cell_type": "code",
   "execution_count": 4,
   "metadata": {
    "id": "yPn7if0TrJ4F"
   },
   "outputs": [
    {
     "name": "stdout",
     "output_type": "stream",
     "text": [
      "Enter 2 numbers : 34 64\n",
      "64\n",
      "34\n"
     ]
    }
   ],
   "source": [
    "a,b = [int(x) for x in input(\"Enter 2 numbers : \").split()]\n",
    "c = a\n",
    "a = b\n",
    "b = c\n",
    "print(a)\n",
    "print(b)"
   ]
  },
  {
   "cell_type": "markdown",
   "metadata": {
    "id": "waLCP1bjr7ML"
   },
   "source": [
    "### Q4:- Write a program to find the euclidean distance between two coordinates.Take both the coordinates from the user as input."
   ]
  },
  {
   "cell_type": "code",
   "execution_count": 1,
   "metadata": {
    "id": "Pl1Sv-xnrxnH"
   },
   "outputs": [
    {
     "name": "stdout",
     "output_type": "stream",
     "text": [
      "Enter x and y coordinates of the first point : 3 5\n",
      "Enter x and y coordinates of the second point : 5 7\n",
      "The euclidean distance between the two coordinates is 2.8284271247461903\n"
     ]
    }
   ],
   "source": [
    "# d =√[(x2 – x1)2 + (y2 – y1)2]\n",
    "import math \n",
    "\n",
    "x1,x2 = [int(x) for x in input('Enter x and y coordinates of the first point : ').split()]\n",
    "y1, y2 = [int(x) for x in input('Enter x and y coordinates of the second point : ').split()]\n",
    "\n",
    "d = math.sqrt(pow((x2-x1),2) + pow((y2-y1), 2))\n",
    "\n",
    "print(\"The euclidean distance between the two coordinates is {}\".format(d))"
   ]
  },
  {
   "cell_type": "markdown",
   "metadata": {
    "id": "VLrhg-FRsHjR"
   },
   "source": [
    "### Q5:- Write a program to find the simple interest when the value of principle,rate of interest and time period is provided by the user.\n"
   ]
  },
  {
   "cell_type": "code",
   "execution_count": 3,
   "metadata": {
    "id": "s40DlReZsTmY"
   },
   "outputs": [
    {
     "name": "stdout",
     "output_type": "stream",
     "text": [
      "Enter the value of principle amount : 15000\n",
      "Enter the rate of interest : 7\n",
      "Enter the time period(in years)2\n",
      "The final amount is 17100.0\n"
     ]
    }
   ],
   "source": [
    "p = int(input('Enter the value of principle amount : '))\n",
    "r = int(input('Enter the rate of interest : '))\n",
    "t = int(input('Enter the time period(in years)'))\n",
    "\n",
    "a = p+ ((p*r*t)/100)\n",
    "\n",
    "print('The final amount is {}'.format(a))"
   ]
  },
  {
   "cell_type": "markdown",
   "metadata": {
    "id": "LMy0BTUktYKa"
   },
   "source": [
    "### Q6:- Write a program that will tell the number of dogs and chicken are there when the user will provide the value of total heads and legs.\n",
    "\n",
    "For example:\n",
    "Input:\n",
    "heads -> 4\n",
    "legs -> 12\n",
    "<br>\n",
    "Output:\n",
    "dogs -> 2\n",
    "chicken -> 2\n",
    "\n",
    "\n",
    "\n"
   ]
  },
  {
   "cell_type": "code",
   "execution_count": 8,
   "metadata": {
    "id": "XSBvJoA4tXaG"
   },
   "outputs": [
    {
     "name": "stdout",
     "output_type": "stream",
     "text": [
      "Enter the number of heads : 1\n",
      "Enter the number of legs : 2\n",
      "dogs : 0\n",
      "chicken : 1\n"
     ]
    }
   ],
   "source": [
    "head = int(input('Enter the number of heads : '))\n",
    "legs = int(input('Enter the number of legs : '))\n",
    "\n",
    "if head*4 == legs:\n",
    "    print('dogs : {}'.format(head))\n",
    "    print('chicken : {}'.format(0))\n",
    "    \n",
    "else: \n",
    "    a = head\n",
    "    b = legs\n",
    "    while((a*4) != b):\n",
    "        a -= 1\n",
    "        b -= 2\n",
    "    print('dogs : {}'.format(a))\n",
    "    print('chicken : {}'.format(head-a))\n",
    "        "
   ]
  },
  {
   "cell_type": "markdown",
   "metadata": {
    "id": "gJ7C5kZYt4BP"
   },
   "source": [
    "### Q7:- Write a program to find the sum of squares of first n natural numbers where n will be provided by the user."
   ]
  },
  {
   "cell_type": "code",
   "execution_count": 9,
   "metadata": {
    "id": "_tHsmEHzt2nX"
   },
   "outputs": [
    {
     "name": "stdout",
     "output_type": "stream",
     "text": [
      "Enter the value of n : 5\n",
      "Result : 15\n"
     ]
    }
   ],
   "source": [
    "n = int(input('Enter the value of n : '))\n",
    "a = 0\n",
    "for i in range(n+1):\n",
    "    a += i\n",
    "print('Result : {}'.format(a))"
   ]
  },
  {
   "cell_type": "markdown",
   "metadata": {
    "id": "FHrMM7g-yG1h"
   },
   "source": [
    "### Q8:- Given the first 2 terms of an Arithmetic Series.Find the Nth term of the series. Assume all inputs are provided by the user."
   ]
  },
  {
   "cell_type": "code",
   "execution_count": 10,
   "metadata": {
    "id": "go4_kmZmyVSx"
   },
   "outputs": [
    {
     "name": "stdout",
     "output_type": "stream",
     "text": [
      "Enter first 2 terms of AP : 5 7\n",
      "Enter the value of n : 7\n",
      "Nth term of AP is 17\n"
     ]
    }
   ],
   "source": [
    "a,b = [int(x) for x in input('Enter first 2 terms of AP : ').split()]\n",
    "n = int(input('Enter the value of n : '))\n",
    "d = max(a,b)-min(a,b)\n",
    "\n",
    "res = a + ((n-1)*d)\n",
    "\n",
    "print('Nth term of AP is {}'.format(res))\n"
   ]
  },
  {
   "cell_type": "markdown",
   "metadata": {
    "id": "QgyRX_es1oum"
   },
   "source": [
    "### Q9:- Given 2 fractions, find the sum of those 2 fractions.Take the numerator and denominator values of the fractions from the user."
   ]
  },
  {
   "cell_type": "code",
   "execution_count": 13,
   "metadata": {
    "id": "X05xqFS1yW16"
   },
   "outputs": [
    {
     "name": "stdout",
     "output_type": "stream",
     "text": [
      "Enter numerator and denominator of the first fraction : 1 3\n",
      "Enter numerator and denominator of the second fraction : 1 5\n",
      "Result is 8/15\n"
     ]
    }
   ],
   "source": [
    "n1, d1 = [int(x) for x in input('Enter numerator and denominator of the first fraction : ').split()]\n",
    "n2, d2 = [int(x) for x in input('Enter numerator and denominator of the second fraction : ').split()]\n",
    "\n",
    "n1 *= d2\n",
    "n2 *= d1\n",
    "b = d1*d2\n",
    "\n",
    "n1 += n2\n",
    "\n",
    "print('Result is {}/{}'.format(n1, b))"
   ]
  },
  {
   "cell_type": "markdown",
   "metadata": {
    "id": "eaql38ln13u7"
   },
   "source": [
    "### Q10:- Given the height, width and breadth of a milk tank, you have to find out how many glasses of milk can be obtained? Assume all the inputs are provided by the user.\n",
    "\n",
    "\n",
    "\n",
    "Input:<br>\n",
    "Dimensions of the milk tank<br>\n",
    "H = 20cm, L = 20cm, B = 20cm\n",
    "<br><br>\n",
    "Dimensions of the glass<br>\n",
    "h = 3cm, r = 1cm"
   ]
  },
  {
   "cell_type": "code",
   "execution_count": 14,
   "metadata": {
    "id": "FePZqno74eWv"
   },
   "outputs": [
    {
     "name": "stdout",
     "output_type": "stream",
     "text": [
      "Enter the dimensions of the tank : 20 20 20\n",
      "Enter the dimensions of the glass : 3 1\n",
      "Number of glasses that can be filled : 424.6284501061571\n"
     ]
    }
   ],
   "source": [
    "a,b,c = [int(x) for x in input('Enter the dimensions of the tank : ').split()]\n",
    "x,y = [int(x) for x in input('Enter the dimensions of the glass : ').split()]\n",
    "\n",
    "v1  = a*b*c\n",
    "v2 = (2*3.14*y)*x\n",
    "\n",
    "print('Number of glasses that can be filled : {}'.format(v1/v2))"
   ]
  },
  {
   "cell_type": "code",
   "execution_count": null,
   "metadata": {},
   "outputs": [],
   "source": []
  }
 ],
 "metadata": {
  "colab": {
   "provenance": []
  },
  "kernelspec": {
   "display_name": "Python 3.10.7 64-bit",
   "language": "python",
   "name": "python3"
  },
  "language_info": {
   "codemirror_mode": {
    "name": "ipython",
    "version": 3
   },
   "file_extension": ".py",
   "mimetype": "text/x-python",
   "name": "python",
   "nbconvert_exporter": "python",
   "pygments_lexer": "ipython3",
   "version": "3.10.7"
  },
  "vscode": {
   "interpreter": {
    "hash": "b611746e94358cf9abf6d08e2c6b9c85851e9a25a0c57099b07a1d05f7e4e353"
   }
  }
 },
 "nbformat": 4,
 "nbformat_minor": 1
}
