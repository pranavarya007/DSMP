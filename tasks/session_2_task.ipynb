{
 "cells": [
  {
   "cell_type": "markdown",
   "metadata": {
    "id": "w6RlOAXV2PWh"
   },
   "source": [
    "### `Problem 1`: Write a program that will give you in hand monthly salary after deduction on CTC - HRA(10%), DA(5%), PF(3%) and taxes deduction as below:\n",
    "\n",
    "> Salary(Lakhs) : Tax(%)\n",
    "\n",
    "*   Below 5 : 0%\n",
    "*   5-10 : 10%\n",
    "*   10-20 : 20%\n",
    "*   aboove 20 : 30%"
   ]
  },
  {
   "cell_type": "code",
   "execution_count": 4,
   "metadata": {
    "id": "7tMHvKYO2etI"
   },
   "outputs": [
    {
     "name": "stdout",
     "output_type": "stream",
     "text": [
      "Enter your CTC in LPA format : 23\n",
      "Your in hand monthly salary is 125733.33\n"
     ]
    }
   ],
   "source": [
    "salary = int(input(\"Enter your CTC in LPA format : \"))\n",
    "\n",
    "salary = salary - ((salary*0.1) + (salary*0.05) + (salary*0.03))\n",
    "\n",
    "if salary<5:\n",
    "    pass\n",
    "\n",
    "elif salary>=5 and salary<10:\n",
    "    salary = salary - (salary*0.1)\n",
    "\n",
    "elif salary>=10 and salary<20:\n",
    "    salary = salary - (salary*0.2)    \n",
    "else:\n",
    "    salary = salary - (salary*0.3)\n",
    "    \n",
    "print(\"Your in hand monthly salary is {0:.2f}\".format((salary/12)*100000))\n",
    "    "
   ]
  },
  {
   "cell_type": "markdown",
   "metadata": {
    "id": "tYzCGqwl2hfN"
   },
   "source": [
    "### `Problem 2`: Write a program that take a user input of three angles and will find out whether it can form a triangle or not."
   ]
  },
  {
   "cell_type": "code",
   "execution_count": 7,
   "metadata": {
    "id": "FYEqln-I2kxV"
   },
   "outputs": [
    {
     "name": "stdout",
     "output_type": "stream",
     "text": [
      "Enter the value of 3 angles to find out if they form a triangle : 30 60 90\n",
      "The angles can form a triangle\n"
     ]
    }
   ],
   "source": [
    "a,b,c = [int(x) for x in input(\"Enter the value of 3 angles to find out if they form a triangle : \").split()]\n",
    "if a+b+c==180:\n",
    "    print('The angles can form a triangle')\n",
    "else:\n",
    "    print('The angles cannot form a triangle')"
   ]
  },
  {
   "cell_type": "markdown",
   "metadata": {
    "id": "5vEpPh8C2pE4"
   },
   "source": [
    "### `Problem 3`: Write a program that will take user input of cost price and selling price and determines whether its a loss or a profit."
   ]
  },
  {
   "cell_type": "code",
   "execution_count": 8,
   "metadata": {
    "id": "jDwBXlkO2sfl"
   },
   "outputs": [
    {
     "name": "stdout",
     "output_type": "stream",
     "text": [
      "enter cp and sp respectively : 54 65\n",
      "Profit\n"
     ]
    }
   ],
   "source": [
    "cp, sp = [int(x) for x in input(\"enter cp and sp respectively : \").split()]\n",
    "if cp > sp:\n",
    "    print('Loss')\n",
    "elif sp > cp:\n",
    "    print('Profit')\n",
    "else:\n",
    "    print(\"No profit no loss\")"
   ]
  },
  {
   "cell_type": "markdown",
   "metadata": {
    "id": "J_FG_cJW2ugT"
   },
   "source": [
    "### `Problem 4`: Write a menu-driven program - \n",
    "1. cm to ft \n",
    "2. km to miles \n",
    "3. USD to INR \n",
    "4. exit"
   ]
  },
  {
   "cell_type": "code",
   "execution_count": 11,
   "metadata": {
    "id": "yBHhaCGQ2zpD"
   },
   "outputs": [
    {
     "name": "stdout",
     "output_type": "stream",
     "text": [
      "Welcome to converterX !!\n",
      "You can perform the following operation by entering the following keys: \n",
      "1. cm to ft\n",
      "2. km to miles\n",
      "3. USD to INR\n",
      "4. exit\n",
      "Enter an operation key : 3\n",
      "Enter USD value to convert it into INR : 788\n",
      "788 USD is equal to approx 64285.04 INR\n",
      "Enter an operation key : 4\n",
      "Thank you for using operatorX. Going to sleep......\n"
     ]
    }
   ],
   "source": [
    "print('Welcome to operatorX !!')\n",
    "print('You can perform the following operation by entering the following keys: ')\n",
    "print('1. cm to ft')\n",
    "print('2. km to miles')\n",
    "print('3. USD to INR')\n",
    "print('4. exit')\n",
    "\n",
    "exit = False\n",
    "while(not exit):\n",
    "    a = int(input('Enter an operation key : '))\n",
    "    if a==1:\n",
    "        b = int(input('Enter cm value to convert it into ft : '))\n",
    "        c = b*(0.0328084)\n",
    "        print('{} cm is equal to approx {} ft'.format(b,c))\n",
    "    elif a==2:\n",
    "        b = int(input('Enter km value to convert it into miles : '))\n",
    "        c = b*(0.621371)\n",
    "        print('{} km is equal to approx {} miles'.format(b,c))\n",
    "    elif a==3:\n",
    "        b = int(input('Enter USD value to convert it into INR : '))\n",
    "        c = b*(81.58)\n",
    "        print('{} USD is equal to approx {} INR'.format(b,c))\n",
    "    elif a==4:\n",
    "        exit = True\n",
    "        print(\"Thank you for using operatorX. Going to sleep......\")\n",
    "    else:\n",
    "        print('Invalid operation key entered. Please try again')\n",
    "        "
   ]
  },
  {
   "cell_type": "markdown",
   "metadata": {
    "id": "LJJ30_Yw27ZU"
   },
   "source": [
    "### `Problem 5` -  Display Fibonacci series up to 10 terms.\n",
    "\n",
    "*Note: The Fibonacci Sequence is a series of numbers. The next number is found by adding up the two numbers before it. The first two numbers are 0 and 1. For example, 0, 1, 1, 2, 3, 5, 8, 13, 21. The next number in this series above is 13+21 = 34*"
   ]
  },
  {
   "cell_type": "code",
   "execution_count": 19,
   "metadata": {
    "id": "ae_1rpe52-5R"
   },
   "outputs": [
    {
     "name": "stdout",
     "output_type": "stream",
     "text": [
      "0, 1,  1,  2,  3,  5,  8,  13,  21,  34"
     ]
    }
   ],
   "source": [
    "a = 0\n",
    "b = 1 \n",
    "\n",
    "print(a,  b,  end='', sep=', ')\n",
    "for i in range(8):\n",
    "    c = a+b\n",
    "    a = b\n",
    "    b = c\n",
    "    print(', ', b,  end='')"
   ]
  },
  {
   "cell_type": "markdown",
   "metadata": {
    "id": "pk_I_S4m3PT5"
   },
   "source": [
    "### `Problem 6` - Find the factorial of a given number.\n",
    "\n",
    "Write a program to use the loop to find the factorial of a given number.\n",
    "\n",
    "The factorial (symbol: `!`) means to multiply all whole numbers from the chosen number down to 1.\n",
    "\n",
    "For example: calculate the factorial of 5\n",
    "\n",
    "```bash\n",
    "5! = 5 × 4 × 3 × 2 × 1 = 120\n",
    "```\n",
    "\n",
    "Output: \n",
    "\n",
    "```bash\n",
    "120\n",
    "```"
   ]
  },
  {
   "cell_type": "code",
   "execution_count": 23,
   "metadata": {
    "id": "lzXxHegx3Rkc"
   },
   "outputs": [
    {
     "name": "stdout",
     "output_type": "stream",
     "text": [
      "Enter a number to find its factorial : 5\n",
      "Factorial of 5 is 120\n"
     ]
    }
   ],
   "source": [
    "a = int(input('Enter a number to find its factorial : '))\n",
    "factr = 1\n",
    "for i in range(1,a+1):\n",
    "    factr *= i\n",
    "\n",
    "print('Factorial of {} is {}'.format(a, factr))"
   ]
  },
  {
   "cell_type": "markdown",
   "metadata": {
    "id": "-17IOi-g3UpU"
   },
   "source": [
    "### `Problem 7` - Reverse a given integer number.\n",
    "\n",
    "Example:\n",
    "\n",
    "`Input:`\n",
    "\n",
    "```bash\n",
    "76542\n",
    "```\n",
    "\n",
    "`Output:`\n",
    "\n",
    "```bash\n",
    "24567\n",
    "```"
   ]
  },
  {
   "cell_type": "code",
   "execution_count": 26,
   "metadata": {
    "id": "wJwLpKCr3aVA"
   },
   "outputs": [
    {
     "name": "stdout",
     "output_type": "stream",
     "text": [
      "Enter a number to reverse : 465\n",
      "564\n"
     ]
    }
   ],
   "source": [
    "a = input('Enter a number to reverse : ')\n",
    "print(a[::-1])"
   ]
  },
  {
   "cell_type": "markdown",
   "metadata": {
    "id": "-t8PJQaY3sHf"
   },
   "source": [
    "### `Problem 8`: Take a user input as integer N. Find out the sum from 1 to N. If any number if divisible by 5, then skip that number. And if the sum is greater than 300, don't need to calculate the sum further more. Print the final result. And don't use for loop to solve this problem.\n",
    "\n",
    "**Example 1:**\n",
    "\n",
    "`Input:`\n",
    "\n",
    "```bash\n",
    "30\n",
    "```\n",
    "\n",
    "`Output:`\n",
    "\n",
    "```bash\n",
    "276\n",
    "```"
   ]
  },
  {
   "cell_type": "code",
   "execution_count": 29,
   "metadata": {
    "id": "GZB6mGMP3ujT"
   },
   "outputs": [
    {
     "name": "stdout",
     "output_type": "stream",
     "text": [
      "Enter a number : 30\n",
      "276\n"
     ]
    }
   ],
   "source": [
    "a = int(input('Enter a number : '))\n",
    "sum = 0\n",
    "counter = 1\n",
    "exit  = False\n",
    "while not exit:\n",
    "    if counter <= a:\n",
    "        if counter%5 != 0:\n",
    "            if (sum+counter)>300:\n",
    "                exit = True\n",
    "                break\n",
    "            else:\n",
    "                sum += counter\n",
    "        counter += 1\n",
    "    else:\n",
    "        exit=True\n",
    "print(sum)\n",
    "    "
   ]
  },
  {
   "cell_type": "markdown",
   "metadata": {
    "id": "Q7ggImeA3xm4"
   },
   "source": [
    "### `Problem 9`: Write a program that keeps on accepting a number from the user until the user enters Zero. Display the sum and average of all the numbers."
   ]
  },
  {
   "cell_type": "code",
   "execution_count": 32,
   "metadata": {
    "id": "t_YDSZDe4Kdo"
   },
   "outputs": [
    {
     "name": "stdout",
     "output_type": "stream",
     "text": [
      "Enter a number : 34\n",
      "Sum : 34\n",
      "Average : 34.0\n",
      "Enter a number : 434\n",
      "Sum : 468\n",
      "Average : 234.0\n",
      "Enter a number : 5344\n",
      "Sum : 5812\n",
      "Average : 1937.3333333333333\n",
      "Enter a number : 2323\n",
      "Sum : 8135\n",
      "Average : 2033.75\n",
      "Enter a number : 2323\n",
      "Sum : 10458\n",
      "Average : 2091.6\n",
      "Enter a number : 43\n",
      "Sum : 10501\n",
      "Average : 1750.1666666666667\n",
      "Enter a number : 434\n",
      "Sum : 10935\n",
      "Average : 1562.142857142857\n",
      "Enter a number : 34\n",
      "Sum : 10969\n",
      "Average : 1371.125\n",
      "Enter a number : 3\n",
      "Sum : 10972\n",
      "Average : 1219.111111111111\n",
      "Enter a number : 4\n",
      "Sum : 10976\n",
      "Average : 1097.6\n",
      "Enter a number : 5\n",
      "Sum : 10981\n",
      "Average : 998.2727272727273\n",
      "Enter a number : 35\n",
      "Sum : 11016\n",
      "Average : 918.0\n",
      "Enter a number : 0\n",
      "Exiting the program !! The final sum and average values are : \n",
      "Sum : 11016\n",
      "Average : 918.0\n"
     ]
    }
   ],
   "source": [
    "s = 0\n",
    "a = 0\n",
    "ct = 0\n",
    "exit = False\n",
    "while not exit:\n",
    "    b = int(input('Enter a number : '))\n",
    "    if (b==0):\n",
    "        print('Exiting the program !! The final sum and average values are : ')\n",
    "        print('Sum : {}'.format(s))\n",
    "        print('Average : {}'.format(a))\n",
    "        exit = True\n",
    "    else:\n",
    "        ct += 1\n",
    "        s += b\n",
    "        a = s/ct\n",
    "        print('Sum : {}'.format(s))\n",
    "        print('Average : {}'.format(a))"
   ]
  },
  {
   "cell_type": "markdown",
   "metadata": {
    "id": "6EhvEMvm4R7s"
   },
   "source": [
    "### `Problem 9`: Write a program which will find all such numbers which are divisible by 7 but are not a multiple of 5, between 2000 and 3200 (both included). The numbers obtained should be printed in a comma-separated sequence on a single line."
   ]
  },
  {
   "cell_type": "code",
   "execution_count": 33,
   "metadata": {
    "id": "d6RgP1B34T6c"
   },
   "outputs": [
    {
     "name": "stdout",
     "output_type": "stream",
     "text": [
      "2002, 2009, 2016, 2023, 2037, 2044, 2051, 2058, 2072, 2079, 2086, 2093, 2107, 2114, 2121, 2128, 2142, 2149, 2156, 2163, 2177, 2184, 2191, 2198, 2212, 2219, 2226, 2233, 2247, 2254, 2261, 2268, 2282, 2289, 2296, 2303, 2317, 2324, 2331, 2338, 2352, 2359, 2366, 2373, 2387, 2394, 2401, 2408, 2422, 2429, 2436, 2443, 2457, 2464, 2471, 2478, 2492, 2499, 2506, 2513, 2527, 2534, 2541, 2548, 2562, 2569, 2576, 2583, 2597, 2604, 2611, 2618, 2632, 2639, 2646, 2653, 2667, 2674, 2681, 2688, 2702, 2709, 2716, 2723, 2737, 2744, 2751, 2758, 2772, 2779, 2786, 2793, 2807, 2814, 2821, 2828, 2842, 2849, 2856, 2863, 2877, 2884, 2891, 2898, 2912, 2919, 2926, 2933, 2947, 2954, 2961, 2968, 2982, 2989, 2996, 3003, 3017, 3024, 3031, 3038, 3052, 3059, 3066, 3073, 3087, 3094, 3101, 3108, 3122, 3129, 3136, 3143, 3157, 3164, 3171, 3178, 3192, 3199, "
     ]
    }
   ],
   "source": [
    "for i in range(2000, 3201):\n",
    "    if (i%7==0) and (i%5 != 0):\n",
    "        print(i, end=', ')"
   ]
  },
  {
   "cell_type": "markdown",
   "metadata": {
    "id": "tYvmRR-G4Vp4"
   },
   "source": [
    "### `Problem 10`: Write a program, which will find all such numbers between 1000 and 3000 (both included) such that each digit of the number is an even number. The numbers obtained should be printed in a space-separated sequence on a single line.\n",
    "\n"
   ]
  },
  {
   "cell_type": "code",
   "execution_count": 34,
   "metadata": {
    "id": "k6Gs1kIf4k19"
   },
   "outputs": [
    {
     "name": "stdout",
     "output_type": "stream",
     "text": [
      "2000 2002 2004 2006 2008 2020 2022 2024 2026 2028 2040 2042 2044 2046 2048 2060 2062 2064 2066 2068 2080 2082 2084 2086 2088 2200 2202 2204 2206 2208 2220 2222 2224 2226 2228 2240 2242 2244 2246 2248 2260 2262 2264 2266 2268 2280 2282 2284 2286 2288 2400 2402 2404 2406 2408 2420 2422 2424 2426 2428 2440 2442 2444 2446 2448 2460 2462 2464 2466 2468 2480 2482 2484 2486 2488 2600 2602 2604 2606 2608 2620 2622 2624 2626 2628 2640 2642 2644 2646 2648 2660 2662 2664 2666 2668 2680 2682 2684 2686 2688 2800 2802 2804 2806 2808 2820 2822 2824 2826 2828 2840 2842 2844 2846 2848 2860 2862 2864 2866 2868 2880 2882 2884 2886 2888 "
     ]
    }
   ],
   "source": [
    "for i in range(1000, 3001):\n",
    "    a = i\n",
    "    digits = []\n",
    "    while (a!=0):\n",
    "        digits.append(a%10)\n",
    "        a = a//10\n",
    "    even= True\n",
    "    for j in digits:\n",
    "        if j%2!=0:\n",
    "            even = False\n",
    "            break\n",
    "    if even:\n",
    "        print(i, end= ' ')\n",
    "            "
   ]
  },
  {
   "cell_type": "markdown",
   "metadata": {
    "id": "GV18IINT4mf5"
   },
   "source": [
    "### `Problem 11`: A robot moves in a plane starting from the original point (0,0). The robot can move toward UP, DOWN, LEFT and RIGHT with a given steps. \n",
    "The trace of robot movement is shown as the following:\n",
    "```\n",
    "UP 5\n",
    "DOWN 3\n",
    "LEFT 3\n",
    "RIGHT 2\n",
    "!\n",
    "```\n",
    "> The numbers after the direction are steps. \n",
    "\n",
    "> `!` means robot stop there.\n",
    "\n",
    "**Please write a program to compute the distance from current position after a sequence of movement and original point.** \n",
    "\n",
    "*If the distance is a float, then just print the nearest integer.*\n",
    "\n",
    "Example:\n",
    "\n",
    "`Input`:\n",
    "```\n",
    "UP 5\n",
    "DOWN 3\n",
    "LEFT 3\n",
    "RIGHT 2\n",
    "!\n",
    "```\n",
    "`Output`:\n",
    "```\n",
    "2\n",
    "```"
   ]
  },
  {
   "cell_type": "code",
   "execution_count": 43,
   "metadata": {
    "id": "6UNMC2aR4w5x"
   },
   "outputs": [
    {
     "name": "stdout",
     "output_type": "stream",
     "text": [
      "Enter a instruction : UP 5\n",
      "Enter a instruction : DOWN 3\n",
      "Enter a instruction : LEFT 3\n",
      "Enter a instruction : RIGHT 2\n",
      "Enter a instruction : !\n",
      "2   -1\n",
      "Distance from origin is 2\n"
     ]
    }
   ],
   "source": [
    "import re\n",
    "import math\n",
    "\n",
    "inst = []\n",
    "exit = False\n",
    "while not exit:\n",
    "    a = input('Enter a instruction : ')\n",
    "    if (a!='!'):\n",
    "        inst.append(a)\n",
    "    else:\n",
    "        break\n",
    "v = 0\n",
    "h = 0\n",
    "for i in inst:\n",
    "    if (i[0]=='U'):\n",
    "        v += int((re.findall(r'\\d+', i))[0]) \n",
    "    elif (i[0]=='D'):\n",
    "        v -= int((re.findall(r'\\d+', i))[0]) \n",
    "    elif (i[0]=='R'):\n",
    "        h += int((re.findall(r'\\d+', i))[0]) \n",
    "    elif (i[0]=='L'):\n",
    "        h -= int((re.findall(r'\\d+', i))[0]) \n",
    "\n",
    "d = math.sqrt(pow(v,2)+pow(h,2))\n",
    "print('Distance from origin is {}'.format(round(d)))\n",
    "    \n",
    "    \n",
    "        \n"
   ]
  },
  {
   "cell_type": "markdown",
   "metadata": {
    "id": "3fsAIAhK5GYY"
   },
   "source": [
    "### `Problem 12`:Write a program to print whether a given number is a prime number or not"
   ]
  },
  {
   "cell_type": "code",
   "execution_count": 51,
   "metadata": {
    "id": "j6y91lxy5LZs"
   },
   "outputs": [
    {
     "name": "stdout",
     "output_type": "stream",
     "text": [
      "Enter a number to check weather it is a prime or not : 83\n",
      "83 is a prime number\n"
     ]
    }
   ],
   "source": [
    "a = int(input('Enter a number to check weather it is a prime or not : '))\n",
    "\n",
    "prime = True\n",
    "for i in range(2, round(math.sqrt(a))):\n",
    "    if a%i==0:\n",
    "        prime = False\n",
    "        break\n",
    "if prime:\n",
    "    print('{} is a prime number'.format(a))\n",
    "else:\n",
    "    print('{} is not a prime number'.format(a))"
   ]
  },
  {
   "cell_type": "markdown",
   "metadata": {
    "id": "asAbmbK-5NHv"
   },
   "source": [
    "### `Problem 13`:Print all the Armstrong numbers in a given range.\n",
    "Range will be provided by the user<br>\n",
    "Armstrong number is a number that is equal to the sum of cubes of its digits. For example 0, 1, 153, 370, 371 and 407 are the Armstrong numbers."
   ]
  },
  {
   "cell_type": "code",
   "execution_count": 56,
   "metadata": {
    "id": "PZuI67pm5jCT"
   },
   "outputs": [
    {
     "name": "stdout",
     "output_type": "stream",
     "text": [
      "Enter a number : 500\n",
      "0 1 153 370 371 407 "
     ]
    }
   ],
   "source": [
    "z = int(input('Enter a number : '))\n",
    "for i in range(z):\n",
    "    digits = []\n",
    "    a = i\n",
    "    while (a!=0):\n",
    "        digits.append(a%10)\n",
    "        a = a//10\n",
    "    tsum = 0\n",
    "    for j in digits:\n",
    "        tsum += pow(j,3)\n",
    "    if (tsum==i):\n",
    "        print(i, end=' ')"
   ]
  },
  {
   "cell_type": "markdown",
   "metadata": {
    "id": "ClCQZMqT7gK0"
   },
   "source": [
    "### `Problem 14`:Calculate the angle between the hour hand and minute hand.\n",
    "\n",
    "Note: There can be two angles between hands; we need to print a minimum of two. Also, we need to print the floor of the final result angle. For example, if the final angle is 10.61, we need to print 10.\n",
    "\n",
    "Input:<br>\n",
    "H = 9 , M = 0<br>\n",
    "Output:<br>\n",
    "90<br>\n",
    "Explanation:<br>\n",
    "The minimum angle between hour and minute\n",
    "hand when the time is 9 is 90 degress."
   ]
  },
  {
   "cell_type": "code",
   "execution_count": 5,
   "metadata": {
    "id": "tNBTCZML7jy_"
   },
   "outputs": [
    {
     "name": "stdout",
     "output_type": "stream",
     "text": [
      "Enter hour and minute values : 10 30\n",
      "the smaller angle between the hour and the minute hand is 120\n"
     ]
    }
   ],
   "source": [
    "import math\n",
    "h,m = [int(x) for x in input('Enter hour and minute values : ').split()]\n",
    "h = 12-h\n",
    "m = (12-((60-m)/5))\n",
    "a = math.floor(abs((h-m)*30))\n",
    "print('the smaller angle between the hour and the minute hand is {}'.format(a))"
   ]
  },
  {
   "cell_type": "markdown",
   "metadata": {
    "id": "GwacF9Co72Qc"
   },
   "source": [
    "### `Problem 15`:Given two rectangles, find if the given two rectangles overlap or not. A rectangle is denoted by providing the x and y coordinates of two points: the left top corner and the right bottom corner of the rectangle. Two rectangles sharing a side are considered overlapping. (L1 and R1 are the extreme points of the first rectangle and L2 and R2 are the extreme points of the second rectangle).\n",
    "\n",
    "Note: It may be assumed that the rectangles are parallel to the coordinate axis.\n",
    "\n",
    "<img src='https://www.geeksforgeeks.org/wp-content/uploads/rectanglesOverlap.png' width='300' height='200'>"
   ]
  },
  {
   "cell_type": "code",
   "execution_count": 6,
   "metadata": {
    "id": "6rrw_lpH78Rs"
   },
   "outputs": [
    {
     "name": "stdout",
     "output_type": "stream",
     "text": [
      "Enter the coordinates of both rectangles : 2 3 4 5 3 5 6 7\n"
     ]
    }
   ],
   "source": [
    "xl1,yl1,xr1,yr1,xl2,yl2,xr2,yr2 = [int(x) for x in input('Enter the coordinates of both rectangles : ').split()]\n",
    "\n",
    "if (xl1<=xl2 and xr1>=xl2) and (yl1>=yl2 and yr1<=yr2):\n",
    "    print('Overlap')\n",
    "    \n",
    "elif (xl1<=xr2 and xr1>=xr2) and (yl1>=yl2 and yr1<=yr2):\n",
    "    print('Overlap')\n",
    "\n",
    "elif (xl1<=xl2 and xr1>=xl2) and (yl1<=yl2 and yl1>=yr2):\n",
    "    print('Overlap')\n",
    "    \n",
    "elif (xl1<=xr2 and xr1>=xr2) and (yl1<=yl2 and yl1>=yr2):\n",
    "    print('Overlap')\n",
    "    \n"
   ]
  },
  {
   "cell_type": "code",
   "execution_count": null,
   "metadata": {},
   "outputs": [],
   "source": []
  }
 ],
 "metadata": {
  "colab": {
   "provenance": []
  },
  "kernelspec": {
   "display_name": "Python 3 (ipykernel)",
   "language": "python",
   "name": "python3"
  },
  "language_info": {
   "codemirror_mode": {
    "name": "ipython",
    "version": 3
   },
   "file_extension": ".py",
   "mimetype": "text/x-python",
   "name": "python",
   "nbconvert_exporter": "python",
   "pygments_lexer": "ipython3",
   "version": "3.10.7"
  },
  "vscode": {
   "interpreter": {
    "hash": "b611746e94358cf9abf6d08e2c6b9c85851e9a25a0c57099b07a1d05f7e4e353"
   }
  }
 },
 "nbformat": 4,
 "nbformat_minor": 1
}
